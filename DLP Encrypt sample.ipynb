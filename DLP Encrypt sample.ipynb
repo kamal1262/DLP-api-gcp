{
 "cells": [
  {
   "cell_type": "code",
   "execution_count": 1,
   "metadata": {
    "ExecuteTime": {
     "end_time": "2019-10-14T01:53:43.919361Z",
     "start_time": "2019-10-14T01:53:43.713548Z"
    }
   },
   "outputs": [
    {
     "ename": "ImportError",
     "evalue": "cannot import name 'kms_v1' from 'google.cloud' (unknown location)",
     "output_type": "error",
     "traceback": [
      "\u001b[0;31m---------------------------------------------------------------------------\u001b[0m",
      "\u001b[0;31mImportError\u001b[0m                               Traceback (most recent call last)",
      "\u001b[0;32m<ipython-input-1-8a5c79b0e013>\u001b[0m in \u001b[0;36m<module>\u001b[0;34m\u001b[0m\n\u001b[1;32m      2\u001b[0m \u001b[0;32mimport\u001b[0m \u001b[0mgoogle\u001b[0m\u001b[0;34m.\u001b[0m\u001b[0mauth\u001b[0m\u001b[0;34m\u001b[0m\u001b[0;34m\u001b[0m\u001b[0m\n\u001b[1;32m      3\u001b[0m \u001b[0;34m\u001b[0m\u001b[0m\n\u001b[0;32m----> 4\u001b[0;31m \u001b[0;32mfrom\u001b[0m \u001b[0mgoogle\u001b[0m\u001b[0;34m.\u001b[0m\u001b[0mcloud\u001b[0m \u001b[0;32mimport\u001b[0m \u001b[0mkms_v1\u001b[0m\u001b[0;34m\u001b[0m\u001b[0;34m\u001b[0m\u001b[0m\n\u001b[0m\u001b[1;32m      5\u001b[0m \u001b[0;32mfrom\u001b[0m \u001b[0mgoogle\u001b[0m\u001b[0;34m.\u001b[0m\u001b[0mcloud\u001b[0m \u001b[0;32mimport\u001b[0m \u001b[0mdlp_v2\u001b[0m\u001b[0;34m\u001b[0m\u001b[0;34m\u001b[0m\u001b[0m\n\u001b[1;32m      6\u001b[0m \u001b[0;32mfrom\u001b[0m \u001b[0mgoogle\u001b[0m\u001b[0;34m.\u001b[0m\u001b[0moauth2\u001b[0m \u001b[0;32mimport\u001b[0m \u001b[0mservice_account\u001b[0m\u001b[0;34m\u001b[0m\u001b[0;34m\u001b[0m\u001b[0m\n",
      "\u001b[0;31mImportError\u001b[0m: cannot import name 'kms_v1' from 'google.cloud' (unknown location)"
     ]
    }
   ],
   "source": [
    "import base64\n",
    "import google.auth\n",
    "\n",
    "from google.cloud import kms_v1\n",
    "from google.cloud import dlp_v2\n",
    "from google.oauth2 import service_account\n",
    "\n",
    "PLAIN_TEXT_KMS_KEY = b\"dataservicesasia\" # 16, 32 or 64 bits\n",
    "PROJECT_ID = \"data-services-asia-dev\"\n",
    "KMS_LOC = \"global\"\n",
    "KMS_RING_NAME = \"loancare-dlp-ring\"\n",
    "KMS_KEY_NAME = \"loancare-dlp\"\n",
    "KMS_KEY_VERSION = \"1\""
   ]
  },
  {
   "cell_type": "code",
   "execution_count": 2,
   "metadata": {
    "ExecuteTime": {
     "end_time": "2019-10-14T01:53:43.928227Z",
     "start_time": "2019-10-14T01:53:43.920944Z"
    }
   },
   "outputs": [],
   "source": [
    "class GoogleServices(object):\n",
    "    \"\"\"\n",
    "    Handling Google client services \n",
    "    \"\"\"\n",
    "    def __init__(self, project_id, crendential_path=None, credential_json=None):\n",
    "        self.project_id = project_id\n",
    "        self.set_credential(credential=crendential_path, credential_json=credential_json)\n",
    "        \n",
    "    def get_project_id(self):\n",
    "        return self.project_id\n",
    "        \n",
    "    def set_credential(self, credential=None, credential_json=None):\n",
    "        if credential:\n",
    "            credentials = service_account.Credentials.from_service_account_file(credential)\n",
    "        elif credential_json:\n",
    "            credentials = service_account.Credentials.from_service_account_info(credential_json)\n",
    "        else:\n",
    "            credentials, project = google.auth.default()\n",
    "        self.credential = credentials\n",
    "\n",
    "    def dlp(self):\n",
    "        dlp_client = dlp_v2.DlpServiceClient(credentials=self.credential)\n",
    "        return dlp_client\n",
    "    \n",
    "    def kms(self):\n",
    "        kms_client = kms_v1.KeyManagementServiceClient(credentials=self.credential)\n",
    "        return kms_client"
   ]
  },
  {
   "cell_type": "code",
   "execution_count": 3,
   "metadata": {
    "ExecuteTime": {
     "end_time": "2019-10-14T01:53:43.936550Z",
     "start_time": "2019-10-14T01:53:43.930101Z"
    }
   },
   "outputs": [],
   "source": [
    "g_services = GoogleServices(PROJECT_ID, crendential_path=\"./dpl-api-data-services-asia-dev.json\")\n",
    "kms_client = g_services.kms()\n",
    "dlp_client = g_services.dlp()"
   ]
  },
  {
   "cell_type": "code",
   "execution_count": 4,
   "metadata": {
    "ExecuteTime": {
     "end_time": "2019-10-14T01:53:44.221453Z",
     "start_time": "2019-10-14T01:53:43.938686Z"
    }
   },
   "outputs": [],
   "source": [
    "kms_name = kms_client.crypto_key_path_path(PROJECT_ID, KMS_LOC, KMS_RING_NAME, KMS_KEY_NAME)\n",
    "kms_response = kms_client.encrypt(kms_name, PLAIN_TEXT_KMS_KEY)\n",
    "kms_wrapped_key = kms_response.ciphertext\n",
    "wrapped_key = kms_wrapped_key # base64.b64decode(kms_wrapped_key)"
   ]
  },
  {
   "cell_type": "code",
   "execution_count": 5,
   "metadata": {
    "ExecuteTime": {
     "end_time": "2019-10-14T01:53:44.229057Z",
     "start_time": "2019-10-14T01:53:44.222611Z"
    }
   },
   "outputs": [],
   "source": [
    "# De-identify using Cryto Deterministic\n",
    "def deidentify_crypto(dlp_client, project_id=None, crypto_key=None, surrogate_type=None, info_types=None):\n",
    "    \n",
    "    # Construct Crypto Deterministic configuration dictionary\n",
    "    crypto_deterministic_config = {\n",
    "        \"crypto_key\":{\n",
    "            \"unwrapped\":{\n",
    "              \"key\": crypto_key\n",
    "            }\n",
    "        }\n",
    "    }\n",
    "\n",
    "    # Add surrogate type\n",
    "    if surrogate_type:\n",
    "        crypto_deterministic_config['surrogate_info_type'] = {\n",
    "            'name': surrogate_type\n",
    "        }\n",
    "\n",
    "    # Construct inspect configuration dictionary\n",
    "    inspect_config = {\n",
    "        'info_types': [{'name': info_type} for info_type in info_types]\n",
    "    }\n",
    "\n",
    "    # Construct deidentify configuration dictionary\n",
    "    deidentify_config = {\n",
    "        'info_type_transformations': {\n",
    "            'transformations': [\n",
    "                {\n",
    "                    'primitive_transformation': {\n",
    "                        'crypto_deterministic_config':\n",
    "                            crypto_deterministic_config\n",
    "                    }\n",
    "                }\n",
    "            ]\n",
    "        }\n",
    "    }\n",
    "\n",
    "    item = {'value': value}\n",
    "\n",
    "    # Call the API\n",
    "    parent = dlp_client.project_path(project_id)\n",
    "    response = dlp_client.deidentify_content(\n",
    "        parent, inspect_config=inspect_config,\n",
    "        deidentify_config=deidentify_config, item=item)\n",
    "\n",
    "    return response.item.value"
   ]
  },
  {
   "cell_type": "code",
   "execution_count": 13,
   "metadata": {
    "ExecuteTime": {
     "end_time": "2019-10-14T01:55:09.861312Z",
     "start_time": "2019-10-14T01:55:09.845981Z"
    }
   },
   "outputs": [],
   "source": [
    "# variables for Crypto Deterministic \n",
    "reiden_surrogate_type = \"EMAIL_ADDRESS\"\n",
    "info_types = [ \"EMAIL_ADDRESS\" ]\n",
    "value = \"Hello there, here is my email: nazmiasri95@gmail.com\"\n",
    "\n",
    "crypto_key = base64.b64encode(b\"dataservicesasia\")"
   ]
  },
  {
   "cell_type": "code",
   "execution_count": 14,
   "metadata": {
    "ExecuteTime": {
     "end_time": "2019-10-14T01:55:10.213841Z",
     "start_time": "2019-10-14T01:55:10.080282Z"
    }
   },
   "outputs": [
    {
     "name": "stdout",
     "output_type": "stream",
     "text": [
      "Encrypted text: Hello there, here is my email: EMAIL_ADDRESS(52):ASZqwkn/vTWEbVQBvEHoHTPQ5Ag/GhJGyTOWnTgKupljrxYANP4=\n"
     ]
    }
   ],
   "source": [
    "enc_text = deidentify_crypto(dlp_client, PROJECT_ID, crypto_key, reiden_surrogate_type, info_types)\n",
    "print(f\"Encrypted text: {enc_text}\")"
   ]
  },
  {
   "cell_type": "code",
   "execution_count": 8,
   "metadata": {
    "ExecuteTime": {
     "end_time": "2019-10-14T01:53:44.775708Z",
     "start_time": "2019-10-14T01:53:44.563228Z"
    }
   },
   "outputs": [
    {
     "name": "stdout",
     "output_type": "stream",
     "text": [
      "item {\n",
      "  value: \"Hello there, here is my email: EMAIL_ADDRESS(52):ASZqwkn/vTWEbVQBvEHoHTPQ5Ag/GhJGyTOWnTgKupljrxYANP4=\"\n",
      "}\n",
      "overview {\n",
      "}\n",
      "\n"
     ]
    }
   ],
   "source": [
    "# Construct Crypto Deterministic configuration dictionary\n",
    "reiden_crypto_deterministic_config = {\n",
    "    \"crypto_key\":{\n",
    "        \"unwrapped\":{\n",
    "          \"key\": crypto_key\n",
    "        }\n",
    "    }\n",
    "}\n",
    "\n",
    "# Add surrogate type\n",
    "if reiden_surrogate_type:\n",
    "    reiden_crypto_deterministic_config['surrogate_info_type'] = {\n",
    "        'name': reiden_surrogate_type\n",
    "    }\n",
    "\n",
    "# Construct inspect configuration dictionary\n",
    "reiden_inspect_config = {\n",
    "    'info_types': [{'name': info_type} for info_type in info_types]\n",
    "}\n",
    "\n",
    "# Construct reidentify configuration dictionary\n",
    "reidentify_config = {\n",
    "    'info_type_transformations': {\n",
    "        'transformations': [\n",
    "            {\n",
    "                'primitive_transformation': {\n",
    "                    'crypto_deterministic_config':\n",
    "                        reiden_crypto_deterministic_config\n",
    "                },\n",
    "                'info_types': [{'name': info_type} for info_type in info_types]\n",
    "            }\n",
    "        ]\n",
    "    }\n",
    "}\n",
    "\n",
    "item = {'value': enc_text}\n",
    "\n",
    "# Call the API\n",
    "parent = dlp_client.project_path(PROJECT_ID)\n",
    "response_reiden = dlp_client.reidentify_content(\n",
    "    parent, inspect_config=reiden_inspect_config,\n",
    "    reidentify_config=reidentify_config, \n",
    "    item=item)\n",
    "\n",
    "print(response_reiden)"
   ]
  },
  {
   "cell_type": "code",
   "execution_count": 9,
   "metadata": {
    "ExecuteTime": {
     "end_time": "2019-10-14T01:53:44.779537Z",
     "start_time": "2019-10-14T01:53:44.776984Z"
    }
   },
   "outputs": [],
   "source": [
    "# # variables for FPE\n",
    "# alphabet = \"ALPHA_NUMERIC\"\n",
    "\n",
    "# # Construct FPE configuration dictionary\n",
    "# crypto_replace_ffx_fpe_config = {\n",
    "#     'crypto_key': {\n",
    "#         'kms_wrapped': {\n",
    "#             'wrapped_key': wrapped_key,\n",
    "#             'crypto_key_name': kms_name\n",
    "#         }\n",
    "#     },\n",
    "#     'common_alphabet': alphabet\n",
    "# }\n",
    "\n",
    "# # Add surrogate type\n",
    "# if surrogate_type:\n",
    "#     crypto_replace_ffx_fpe_config['surrogate_info_type'] = {\n",
    "#         'name': surrogate_type\n",
    "#     }\n",
    "\n",
    "# # Construct inspect configuration dictionary\n",
    "# inspect_config = {\n",
    "#     'info_types': [{'name': info_type} for info_type in info_types]\n",
    "# }\n",
    "\n",
    "# # Construct deidentify configuration dictionary\n",
    "# deidentify_config = {\n",
    "#     'info_type_transformations': {\n",
    "#         'transformations': [\n",
    "#             {\n",
    "#                 'primitive_transformation': {\n",
    "#                     'crypto_replace_ffx_fpe_config':\n",
    "#                         crypto_replace_ffx_fpe_config\n",
    "#                 }\n",
    "#             }\n",
    "#         ]\n",
    "#     }\n",
    "# }\n",
    "\n",
    "# # Convert string to item\n",
    "# item = {'value': value}\n",
    "\n",
    "# # Call the API\n",
    "# parent = dlp_client.project_path(PROJECT_ID)\n",
    "# response = dlp_client.deidentify_content(\n",
    "#     parent, inspect_config=inspect_config,\n",
    "#     deidentify_config=deidentify_config, item=item)\n",
    "\n",
    "# # Print results\n",
    "# print(response)"
   ]
  },
  {
   "cell_type": "code",
   "execution_count": null,
   "metadata": {},
   "outputs": [],
   "source": []
  }
 ],
 "metadata": {
  "kernelspec": {
   "display_name": "Python [conda env:twitter]",
   "language": "python",
   "name": "conda-env-twitter-py"
  },
  "language_info": {
   "codemirror_mode": {
    "name": "ipython",
    "version": 3
   },
   "file_extension": ".py",
   "mimetype": "text/x-python",
   "name": "python",
   "nbconvert_exporter": "python",
   "pygments_lexer": "ipython3",
   "version": "3.7.5"
  }
 },
 "nbformat": 4,
 "nbformat_minor": 2
}
